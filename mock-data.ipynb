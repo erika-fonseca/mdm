{
 "cells": [
  {
   "cell_type": "code",
   "execution_count": 0,
   "metadata": {
    "application/vnd.databricks.v1+cell": {
     "cellMetadata": {},
     "inputWidgets": {},
     "nuid": "f8c7fa55-8d63-4869-9176-44e85f3d9d40",
     "showTitle": false,
     "tableResultSettingsMap": {},
     "title": ""
    }
   },
   "outputs": [],
   "source": [
    "CREATE TABLE dbdemos.data_talks.MasterData (\n",
    "    Name STRING NOT NULL,                -- Name of the entity (e.g., Product Name)\n",
    "    Description STRING,                          -- Detailed description\n",
    "    Category STRING,                    -- Category of the product/item\n",
    "    Price DECIMAL(10, 2),                     -- Price of the item\n",
    "    StockQuantity INT DEFAULT 0,              -- Quantity available in stock\n",
    "    Status STRING -- Status of the record\n",
    ") TBLPROPERTIES('delta.feature.allowColumnDefaults' = 'enabled');\n",
    "\n",
    "-- Insert some dummy data\n",
    "INSERT INTO MasterData (Name, Description, Category, Price, StockQuantity, Status) VALUES\n",
    "('Product A', 'Description for Product A', 'Electronics', 99.99, 50, 'Active'),\n",
    "('Product B', 'Description for Product B', 'Home Appliances', 49.99, 30, 'Active'),\n",
    "('Product C', 'Description for Product C', 'Furniture', 199.99, 15, 'Inactive'),\n",
    "('Product D', 'Description for Product D', 'Clothing', 29.99, 100, 'Active'),\n",
    "('Product E', 'Description for Product E', 'Toys', 19.99, 200, 'Active');\n",
    "\n",
    "SELECT * FROM dbdemos.data_talks.MasterData"
   ]
  }
 ],
 "metadata": {
  "application/vnd.databricks.v1+notebook": {
   "computePreferences": null,
   "dashboards": [],
   "environmentMetadata": {
    "base_environment": "",
    "client": "1"
   },
   "language": "sql",
   "notebookMetadata": {
    "pythonIndentUnit": 2
   },
   "notebookName": "mock-data",
   "widgets": {}
  },
  "language_info": {
   "name": "sql"
  }
 },
 "nbformat": 4,
 "nbformat_minor": 0
}
